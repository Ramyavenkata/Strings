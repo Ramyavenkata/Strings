{
 "cells": [
  {
   "cell_type": "code",
   "execution_count": 1,
   "id": "4b651c32",
   "metadata": {},
   "outputs": [],
   "source": [
    "full_name=\"ramya venkata\""
   ]
  },
  {
   "cell_type": "code",
   "execution_count": 2,
   "id": "0b316cbf",
   "metadata": {},
   "outputs": [
    {
     "name": "stdout",
     "output_type": "stream",
     "text": [
      "ramya venkata\n"
     ]
    }
   ],
   "source": [
    "print(full_name)"
   ]
  },
  {
   "cell_type": "code",
   "execution_count": 3,
   "id": "9f6737cb",
   "metadata": {},
   "outputs": [
    {
     "name": "stdout",
     "output_type": "stream",
     "text": [
      "Ramya Venkata\n"
     ]
    }
   ],
   "source": [
    "print(full_name.title())"
   ]
  },
  {
   "cell_type": "code",
   "execution_count": 4,
   "id": "5b663346",
   "metadata": {},
   "outputs": [
    {
     "name": "stdout",
     "output_type": "stream",
     "text": [
      "RAMYA VENKATA\n"
     ]
    }
   ],
   "source": [
    "print(full_name.upper())"
   ]
  },
  {
   "cell_type": "code",
   "execution_count": 5,
   "id": "5b9cda29",
   "metadata": {},
   "outputs": [
    {
     "name": "stdout",
     "output_type": "stream",
     "text": [
      "ramya venkata\n"
     ]
    }
   ],
   "source": [
    "print(full_name.lower())"
   ]
  },
  {
   "cell_type": "code",
   "execution_count": 6,
   "id": "2ac6244b",
   "metadata": {},
   "outputs": [],
   "source": [
    "#introduction of f strings"
   ]
  },
  {
   "cell_type": "code",
   "execution_count": 12,
   "id": "06fe19d0",
   "metadata": {},
   "outputs": [],
   "source": [
    "first_name=\"abdul\"\n",
    "last_name=\"kalam\""
   ]
  },
  {
   "cell_type": "code",
   "execution_count": 16,
   "id": "387d5b86",
   "metadata": {},
   "outputs": [],
   "source": [
    "total_name=f\"{first_name} {last_name}\""
   ]
  },
  {
   "cell_type": "code",
   "execution_count": 19,
   "id": "17d8b2ad",
   "metadata": {},
   "outputs": [
    {
     "name": "stdout",
     "output_type": "stream",
     "text": [
      "abdulkalam\n"
     ]
    }
   ],
   "source": [
    "print(total_name)"
   ]
  },
  {
   "cell_type": "code",
   "execution_count": 20,
   "id": "30c2bf4a",
   "metadata": {},
   "outputs": [
    {
     "name": "stdout",
     "output_type": "stream",
     "text": [
      "Abdulkalam\n"
     ]
    }
   ],
   "source": [
    "print(total_name.title())"
   ]
  },
  {
   "cell_type": "code",
   "execution_count": 23,
   "id": "9f0d38df",
   "metadata": {},
   "outputs": [
    {
     "name": "stdout",
     "output_type": "stream",
     "text": [
      "Hai Hello Abdulkalam\n"
     ]
    }
   ],
   "source": [
    "print(f\"Hai Hello {total_name.title()}\")"
   ]
  },
  {
   "cell_type": "code",
   "execution_count": 24,
   "id": "3aaeb28b",
   "metadata": {},
   "outputs": [],
   "source": [
    "#adding whitespaces to strings"
   ]
  },
  {
   "cell_type": "code",
   "execution_count": 25,
   "id": "d9caa97c",
   "metadata": {},
   "outputs": [
    {
     "name": "stdout",
     "output_type": "stream",
     "text": [
      "fav_prog_languages:pythonc++javachtmlsql\n"
     ]
    }
   ],
   "source": [
    "print(\"fav_prog_languages:pythonc++javachtmlsql\")"
   ]
  },
  {
   "cell_type": "code",
   "execution_count": 26,
   "id": "9a64d56e",
   "metadata": {},
   "outputs": [
    {
     "name": "stdout",
     "output_type": "stream",
     "text": [
      "fav_prog_language:\n",
      "python\n",
      "c++\n",
      "java\n",
      "c\n",
      "html\n",
      "sql\n"
     ]
    }
   ],
   "source": [
    "print(\"fav_prog_language:\\npython\\nc++\\njava\\nc\\nhtml\\nsql\")"
   ]
  },
  {
   "cell_type": "code",
   "execution_count": 28,
   "id": "b7dee1c2",
   "metadata": {},
   "outputs": [
    {
     "name": "stdout",
     "output_type": "stream",
     "text": [
      "fav_prog_language:\n",
      "\tpython\n",
      "c++\n",
      "\tjava\n",
      "c\n",
      "\thtmlnsql\n"
     ]
    }
   ],
   "source": [
    "print(\"fav_prog_language:\\n\\tpython\\nc++\\n\\tjava\\nc\\n\\thtml\\\n",
    "nsql\")"
   ]
  },
  {
   "cell_type": "code",
   "execution_count": 29,
   "id": "c7c335bc",
   "metadata": {},
   "outputs": [],
   "source": [
    "#removing whitespaces from strings"
   ]
  },
  {
   "cell_type": "code",
   "execution_count": 30,
   "id": "23b6c37e",
   "metadata": {},
   "outputs": [],
   "source": [
    "subject=\"     python\""
   ]
  },
  {
   "cell_type": "code",
   "execution_count": 31,
   "id": "0f01b70a",
   "metadata": {},
   "outputs": [
    {
     "name": "stdout",
     "output_type": "stream",
     "text": [
      "     python\n"
     ]
    }
   ],
   "source": [
    "print(subject)"
   ]
  },
  {
   "cell_type": "code",
   "execution_count": 33,
   "id": "7eabda7b",
   "metadata": {},
   "outputs": [
    {
     "name": "stdout",
     "output_type": "stream",
     "text": [
      "c      language \n"
     ]
    }
   ],
   "source": [
    "subject2=\"c      language \"\n",
    "print(subject2)"
   ]
  },
  {
   "cell_type": "code",
   "execution_count": 34,
   "id": "6d3d4fb8",
   "metadata": {},
   "outputs": [
    {
     "data": {
      "text/plain": [
       "'python'"
      ]
     },
     "execution_count": 34,
     "metadata": {},
     "output_type": "execute_result"
    }
   ],
   "source": [
    "subject.lstrip()"
   ]
  },
  {
   "cell_type": "code",
   "execution_count": 35,
   "id": "38d5b8bb",
   "metadata": {},
   "outputs": [
    {
     "data": {
      "text/plain": [
       "'c      language'"
      ]
     },
     "execution_count": 35,
     "metadata": {},
     "output_type": "execute_result"
    }
   ],
   "source": [
    "subject2.rstrip()"
   ]
  },
  {
   "cell_type": "code",
   "execution_count": 36,
   "id": "927bd114",
   "metadata": {},
   "outputs": [],
   "source": [
    "name='      pooja     '"
   ]
  },
  {
   "cell_type": "code",
   "execution_count": 37,
   "id": "c8860731",
   "metadata": {},
   "outputs": [
    {
     "data": {
      "text/plain": [
       "'pooja'"
      ]
     },
     "execution_count": 37,
     "metadata": {},
     "output_type": "execute_result"
    }
   ],
   "source": [
    "name.strip()"
   ]
  },
  {
   "cell_type": "code",
   "execution_count": null,
   "id": "def9bb0d",
   "metadata": {},
   "outputs": [],
   "source": []
  }
 ],
 "metadata": {
  "kernelspec": {
   "display_name": "Python 3",
   "language": "python",
   "name": "python3"
  },
  "language_info": {
   "codemirror_mode": {
    "name": "ipython",
    "version": 3
   },
   "file_extension": ".py",
   "mimetype": "text/x-python",
   "name": "python",
   "nbconvert_exporter": "python",
   "pygments_lexer": "ipython3",
   "version": "3.8.8"
  }
 },
 "nbformat": 4,
 "nbformat_minor": 5
}
